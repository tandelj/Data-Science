{
  "nbformat": 4,
  "nbformat_minor": 0,
  "metadata": {
    "kernelspec": {
      "display_name": "Python 3",
      "language": "python",
      "name": "python3"
    },
    "language_info": {
      "codemirror_mode": {
        "name": "ipython",
        "version": 3
      },
      "file_extension": ".py",
      "mimetype": "text/x-python",
      "name": "python",
      "nbconvert_exporter": "python",
      "pygments_lexer": "ipython3",
      "version": "3.8.3"
    },
    "colab": {
      "name": "4662_A4_Q1.ipynb",
      "provenance": [],
      "collapsed_sections": [],
      "toc_visible": true
    },
    "accelerator": "GPU"
  },
  "cells": [
    {
      "cell_type": "markdown",
      "metadata": {
        "id": "WSqk_bgjP047"
      },
      "source": [
        "# CS 4661: Introduction to Data Science\n",
        "# Assignment 4 Question 1\n",
        "## Jay Tandel\n"
      ]
    },
    {
      "cell_type": "markdown",
      "metadata": {
        "id": "wHshckZZP04-"
      },
      "source": [
        "### Question1: Deep Convolutional Autoencoder For Image Denoising\n",
        "In this problem, we use a very interesting and effective application of deep learning, specifically\n",
        "Deep Convolutional Autoencoder. We implement an unsupervised deep convolutional\n",
        "autoencoder for image de-noising, converting noisy digits images from the MNIST dataset to clear\n",
        "digits images. (Make sure to review the Lab5 tutorial on CNN (in Canvas) before starting this HW)."
      ]
    },
    {
      "cell_type": "markdown",
      "metadata": {
        "id": "zEmimIrwP05A"
      },
      "source": [
        "## A\n",
        "Import all of the libraries and tools that you need including the following layers for your\n",
        "network:\n",
        "###### from keras.layers import Convolution2D, MaxPooling2D, Conv2DTranspose"
      ]
    },
    {
      "cell_type": "code",
      "metadata": {
        "id": "I7Wz3I-XP05A"
      },
      "source": [
        "# Importing the required packages and libraries\n",
        "import pandas as pd\n",
        "import numpy as np\n",
        "from keras.layers import Convolution2D, MaxPooling2D, Conv2DTranspose\n",
        "from keras.models import Sequential, Input\n",
        "from tensorflow.keras.models import Model\n",
        "import matplotlib.image as mpimg\n",
        "import matplotlib.pyplot as plt\n"
      ],
      "execution_count": 185,
      "outputs": []
    },
    {
      "cell_type": "markdown",
      "metadata": {
        "id": "rSPH4523P05B"
      },
      "source": [
        "## B\n",
        "Import the mnist dataset and split it into testing and training:\n",
        "\n",
        "from keras.datasets import mnist\n",
        "\n",
        "(X_train, y_train), (X_test, y_test) = mnist.load_data()\n",
        "\n",
        "REMEMBER: In this problem we use Unsupervised Autoencoder, so you don’t use y_train and\n",
        "y_test."
      ]
    },
    {
      "cell_type": "code",
      "metadata": {
        "id": "V3bietGFP05B"
      },
      "source": [
        "# Keras will MNIST dataset for us:\n",
        "from keras.datasets import mnist\n",
        "(X_train, y_train), (X_test, y_test) = mnist.load_data()"
      ],
      "execution_count": 186,
      "outputs": []
    },
    {
      "cell_type": "code",
      "metadata": {
        "colab": {
          "base_uri": "https://localhost:8080/"
        },
        "id": "cQ_2wWcsP05C",
        "outputId": "4ccc9a59-fe3c-4fd4-e21b-221687ed0f7c"
      },
      "source": [
        "X_train.shape"
      ],
      "execution_count": 187,
      "outputs": [
        {
          "output_type": "execute_result",
          "data": {
            "text/plain": [
              "(60000, 28, 28)"
            ]
          },
          "metadata": {
            "tags": []
          },
          "execution_count": 187
        }
      ]
    },
    {
      "cell_type": "code",
      "metadata": {
        "colab": {
          "base_uri": "https://localhost:8080/"
        },
        "id": "ELuxNJP_P05D",
        "outputId": "cbd50906-86d0-4096-df0a-250005d74260"
      },
      "source": [
        "X_test.shape"
      ],
      "execution_count": 188,
      "outputs": [
        {
          "output_type": "execute_result",
          "data": {
            "text/plain": [
              "(10000, 28, 28)"
            ]
          },
          "metadata": {
            "tags": []
          },
          "execution_count": 188
        }
      ]
    },
    {
      "cell_type": "markdown",
      "metadata": {
        "id": "r2QhxnsRP05D"
      },
      "source": [
        "## C\n",
        "Use the following function to add Random noise to all your training and testing samples, and\n",
        "save them as new datasets noisy_X_train and noisy_X_test.\n",
        "\n",
        "def noise(array):\n",
        "\n",
        "noise_factor = 0.4\n",
        "\n",
        "noisy_array = array + noise_factor * np.random.normal(\n",
        "\n",
        "loc=0.0, scale=1.0, size=array.shape)\n",
        "\n",
        "return np.clip(noisy_array, 0.0, 1.0)"
      ]
    },
    {
      "cell_type": "code",
      "metadata": {
        "id": "RO9ezJrzP05E"
      },
      "source": [
        "def noise(array):\n",
        "    noise_factor = 0.4\n",
        "    noisy_array = array + noise_factor * np.random.normal(\n",
        "                    loc=0.0, scale=1.0, size=array.shape)\n",
        "    return np.clip(noisy_array, 0.0, 1.0)"
      ],
      "execution_count": 189,
      "outputs": []
    },
    {
      "cell_type": "code",
      "metadata": {
        "id": "l2zICs5oyXx0"
      },
      "source": [
        "X_train = X_train.astype('float32') / 255.\n",
        "X_test = X_test.astype('float32') / 255.\n",
        "X_train = np.reshape(X_train, (len(X_train), 28, 28, 1))\n",
        "X_test = np.reshape(X_test, (len(X_test), 28, 28, 1))\n"
      ],
      "execution_count": 190,
      "outputs": []
    },
    {
      "cell_type": "code",
      "metadata": {
        "id": "0HeWf4PGP05E"
      },
      "source": [
        "noisy_X_train = noise(X_train)\n",
        "noisy_X_test = noise(X_test)"
      ],
      "execution_count": 191,
      "outputs": []
    },
    {
      "cell_type": "code",
      "metadata": {
        "colab": {
          "base_uri": "https://localhost:8080/"
        },
        "id": "qS93bR0nP05F",
        "outputId": "992224f7-bf03-48e1-f3d4-5bf1ff465a81"
      },
      "source": [
        "noisy_X_train.shape"
      ],
      "execution_count": 192,
      "outputs": [
        {
          "output_type": "execute_result",
          "data": {
            "text/plain": [
              "(60000, 28, 28, 1)"
            ]
          },
          "metadata": {
            "tags": []
          },
          "execution_count": 192
        }
      ]
    },
    {
      "cell_type": "code",
      "metadata": {
        "colab": {
          "base_uri": "https://localhost:8080/"
        },
        "id": "bFUerrWvP05F",
        "outputId": "cdb0219b-9631-4bf3-d023-cd3454aa66ca"
      },
      "source": [
        "noisy_X_test.shape"
      ],
      "execution_count": 193,
      "outputs": [
        {
          "output_type": "execute_result",
          "data": {
            "text/plain": [
              "(10000, 28, 28, 1)"
            ]
          },
          "metadata": {
            "tags": []
          },
          "execution_count": 193
        }
      ]
    },
    {
      "cell_type": "markdown",
      "metadata": {
        "id": "Km_fOLRYP05G"
      },
      "source": [
        "## D\n",
        "Plot some of your samples with noise and without noise and compare them. You should see\n",
        "something like this:"
      ]
    },
    {
      "cell_type": "code",
      "metadata": {
        "colab": {
          "base_uri": "https://localhost:8080/",
          "height": 376
        },
        "id": "13xNy4VtP05G",
        "outputId": "f3e3a62d-67ad-4ad7-dd8d-a5396480d09f"
      },
      "source": [
        "%matplotlib inline\n",
        "\n",
        "plt.figure(figsize=(50, 6))\n",
        "for i in range(1,10):\n",
        "    ax = plt.subplot(3, 20, i + 1)\n",
        "    plt.imshow(X_train[i].reshape(28, 28), cmap=\"gray\")\n",
        "\n",
        "    ax = plt.subplot(3, 20, 40 +i+ 1)\n",
        "    plt.imshow(noisy_X_train[i].reshape(28, 28), cmap=\"gray\")\n",
        "\n",
        "plt.show()"
      ],
      "execution_count": 194,
      "outputs": [
        {
          "output_type": "display_data",
          "data": {
            "image/png": "[encoded data removed]",
            "text/plain": [
              "<Figure size 3600x432 with 18 Axes>"
            ]
          },
          "metadata": {
            "tags": [],
            "needs_background": "light"
          }
        }
      ]
    },
    {
      "cell_type": "markdown",
      "metadata": {
        "id": "UJhb3o-mP05H"
      },
      "source": [
        "## E\n",
        "Now, we want to create our deep convolutional autoencoder for de-noising the images. As\n",
        "you saw in class lectures, the autoencoder includes an Encoder part that compresses the\n",
        "input, and a Decoder part that reconstruct the data.\n",
        "Add the following layers in order:\n",
        "\n",
        "#### Encoder:\n",
        "Convolution2D(32, (3, 3), activation=\"relu\", padding=\"same\")\n",
        "\n",
        "MaxPooling2D((2, 2), padding=\"same\")\n",
        "\n",
        "Convolution2D(32, (3, 3), activation=\"relu\", padding=\"same\")\n",
        "\n",
        "MaxPooling2D((2, 2), padding=\"same\")\n",
        "\n",
        "#### Decoder:\n",
        "Conv2DTranspose(32, (3, 3), strides=2, activation=\"relu\", padding=\"same\")\n",
        "\n",
        "Conv2DTranspose(32, (3, 3), strides=2, activation=\"relu\", padding=\"same\")\n",
        "\n",
        "Convolution2D(1, (3, 3), activation=\"sigmoid\", padding=\"same\")\n",
        "\n",
        "Note: Notice the Conv2DTranspose layer, which is called Transposed convolution also known\n",
        "as Deconvolution. Don’t forget the “strides=2” (the step size of 2). Also, notice the last\n",
        "Convolution2D layer that is used to convert the tensor to the same size as we had in the input."
      ]
    },
    {
      "cell_type": "code",
      "metadata": {
        "id": "lUvs8T_VP05H"
      },
      "source": [
        "#input_img = Input(shape=(28,28,1))"
      ],
      "execution_count": 195,
      "outputs": []
    },
    {
      "cell_type": "code",
      "metadata": {
        "id": "big1NoGbyMya"
      },
      "source": [
        "\n"
      ],
      "execution_count": 195,
      "outputs": []
    },
    {
      "cell_type": "code",
      "metadata": {
        "id": "RMfqVld4P_Oj"
      },
      "source": [
        "#define the model\n",
        "model = Sequential()\n",
        "\n",
        "#encoder\n",
        "model.add(Convolution2D(32, (3, 3), activation=\"relu\", padding=\"same\", input_shape=(28,28,1)))\n",
        "model.add(MaxPooling2D((2, 2), padding=\"same\"))\n",
        "model.add(Convolution2D(32, (3, 3), activation=\"relu\", padding=\"same\"))\n",
        "model.add(MaxPooling2D((2, 2), padding=\"same\"))\n",
        "\n",
        "#decoder\n",
        "model.add(Conv2DTranspose(32, (3, 3), strides=2, activation=\"relu\", padding=\"same\"))\n",
        "model.add(Conv2DTranspose(32, (3, 3), strides=2, activation=\"relu\", padding=\"same\"))\n",
        "model.add(Convolution2D(1, (3, 3), activation=\"sigmoid\", padding=\"same\"))"
      ],
      "execution_count": 196,
      "outputs": []
    },
    {
      "cell_type": "code",
      "metadata": {
        "id": "p_C5BxXnP-99"
      },
      "source": [
        ""
      ],
      "execution_count": 196,
      "outputs": []
    },
    {
      "cell_type": "code",
      "metadata": {
        "id": "eS7xAK7xP05I"
      },
      "source": [
        ""
      ],
      "execution_count": 196,
      "outputs": []
    },
    {
      "cell_type": "code",
      "metadata": {
        "id": "IztVBm0cP05J"
      },
      "source": [
        ""
      ],
      "execution_count": 196,
      "outputs": []
    },
    {
      "cell_type": "markdown",
      "metadata": {
        "id": "nNQjvovVP05J"
      },
      "source": [
        "## F\n",
        "Compile the model with loss='binary_crossentropy', optimizer='adam'"
      ]
    },
    {
      "cell_type": "code",
      "metadata": {
        "id": "XVtKZDkfP05K"
      },
      "source": [
        "# Compile the autoencoder\n",
        "model.compile(loss='binary_crossentropy', optimizer='adam') \n"
      ],
      "execution_count": 197,
      "outputs": []
    },
    {
      "cell_type": "code",
      "metadata": {
        "id": "TDEI75RhQ2Iz"
      },
      "source": [
        "#model.summary()"
      ],
      "execution_count": 198,
      "outputs": []
    },
    {
      "cell_type": "markdown",
      "metadata": {
        "id": "1zVSBCUkP05K"
      },
      "source": [
        "## G\n",
        "Train the model ONLY using the training data. Remember, you don’t use y (label) here. Your\n",
        "input will be noisy_X_train and your output will be X_train (reconstruction). Use the\n",
        "batch_size=128 and epochs=5:\n",
        "\n",
        "fit(noisy_X_train, X_train, batch_size=128, epochs=5)"
      ]
    },
    {
      "cell_type": "code",
      "metadata": {
        "colab": {
          "base_uri": "https://localhost:8080/"
        },
        "id": "1ru4GJsZP05K",
        "outputId": "9ea39867-fd9f-4418-f0de-3705b7f7f404"
      },
      "source": [
        "# Train the autoencoder\n",
        "history = model.fit(noisy_X_train, X_train, \n",
        "                epochs = 5, \n",
        "                batch_size = 128)"
      ],
      "execution_count": 199,
      "outputs": [
        {
          "output_type": "stream",
          "text": [
            "Epoch 1/5\n",
            "469/469 [==============================] - 4s 7ms/step - loss: 0.2856\n",
            "Epoch 2/5\n",
            "469/469 [==============================] - 3s 7ms/step - loss: 0.1015\n",
            "Epoch 3/5\n",
            "469/469 [==============================] - 3s 7ms/step - loss: 0.0964\n",
            "Epoch 4/5\n",
            "469/469 [==============================] - 3s 7ms/step - loss: 0.0941\n",
            "Epoch 5/5\n",
            "469/469 [==============================] - 3s 7ms/step - loss: 0.0926\n"
          ],
          "name": "stdout"
        }
      ]
    },
    {
      "cell_type": "markdown",
      "metadata": {
        "id": "hOgd1VyuP05L"
      },
      "source": [
        "## H\n",
        "Now, Make prediction on your noisy testing set to de-noise it. The output of your prediction\n",
        "will be the de-noised version of your noisy testing set:\n",
        "predict(noisy_X_test)"
      ]
    },
    {
      "cell_type": "code",
      "metadata": {
        "id": "IQSno6CSP05L"
      },
      "source": [
        "predictions = model.predict(noisy_X_test)"
      ],
      "execution_count": 200,
      "outputs": []
    },
    {
      "cell_type": "code",
      "metadata": {
        "id": "2oKrbOvmP05M"
      },
      "source": [
        ""
      ],
      "execution_count": 200,
      "outputs": []
    },
    {
      "cell_type": "markdown",
      "metadata": {
        "id": "5guqaDtHvzit"
      },
      "source": [
        "## I\n",
        "It is time to see the Magic! Plot 10 random images of your testing set before and after denoising\n",
        "to see how amazing your model is in cleaning noisy images. You should see something\n",
        "like this:"
      ]
    },
    {
      "cell_type": "code",
      "metadata": {
        "colab": {
          "base_uri": "https://localhost:8080/",
          "height": 376
        },
        "id": "Znkc0YZYwUVt",
        "outputId": "d6bf6037-9588-4a2d-d74f-6eecee65a53d"
      },
      "source": [
        "plt.figure(figsize=(50, 6))\n",
        "for i in range(10):\n",
        "    # display original\n",
        "    ax = plt.subplot(3, 20, i + 1)\n",
        "    plt.imshow(noisy_X_test[i].reshape(28, 28), cmap=\"gray\")\n",
        "    \n",
        "    # display reconstructed (after noise removed) image\n",
        "    ax = plt.subplot(3, 20, 40 +i+ 1)\n",
        "    plt.imshow(predictions[i].reshape(28, 28), cmap=\"gray\")\n",
        "\n",
        "plt.show()"
      ],
      "execution_count": 201,
      "outputs": [
        {
          "output_type": "display_data",
          "data": {
            "image/png": "[encoded data removed]",
            "text/plain": [
              "<Figure size 3600x432 with 20 Axes>"
            ]
          },
          "metadata": {
            "tags": [],
            "needs_background": "light"
          }
        }
      ]
    }
  ]
}