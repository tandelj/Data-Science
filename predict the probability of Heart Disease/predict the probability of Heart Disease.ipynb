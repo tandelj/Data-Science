{
 "cells": [
  {
   "cell_type": "markdown",
   "metadata": {},
   "source": [
    "# CS 4661: Introduction to Data Science\n",
    "## Jay Tandel\n"
   ]
  },
  {
   "cell_type": "markdown",
   "metadata": {},
   "source": [
    "### Problem:  predict the probability of Heart Disease "
   ]
  },
  {
   "cell_type": "markdown",
   "metadata": {},
   "source": [
    "## A\n",
    "In this question, we work with a simplified version of Heart dataset. Read the dataset file “Heart_short.csv” from github, and assign it to a Pandas DataFrame:\n",
    "\n",
    "df  = pd.read_csv(\"https://github.com/mpourhoma/CS4661/raw/master/Heart_short.csv\")"
   ]
  },
  {
   "cell_type": "code",
   "execution_count": 1,
   "metadata": {},
   "outputs": [],
   "source": [
    "# Importing the required packages and libraries\n",
    "import pandas as pd\n",
    "import numpy as np\n",
    "import matplotlib.pyplot as plt\n",
    "from sklearn.linear_model import LogisticRegression\n",
    "from sklearn.model_selection import train_test_split\n",
    "from sklearn.metrics import accuracy_score\n",
    "from sklearn.model_selection import cross_val_score\n",
    "from sklearn.utils import resample \n",
    "from statistics import mode\n",
    "from sklearn.ensemble import RandomForestClassifier\n",
    "from sklearn import preprocessing\n",
    "from sklearn import metrics"
   ]
  },
  {
   "cell_type": "code",
   "execution_count": 2,
   "metadata": {},
   "outputs": [],
   "source": [
    "# Reading the csv file from web, and store it in panda DataFrame\n",
    "df = pd.read_csv(\"https://github.com/mpourhoma/CS4661/raw/master/Heart_short.csv\")"
   ]
  },
  {
   "cell_type": "code",
   "execution_count": 3,
   "metadata": {},
   "outputs": [
    {
     "name": "stdout",
     "output_type": "stream",
     "text": [
      "     Age  RestBP  Chol  RestECG  MaxHR  Oldpeak  AHD\n",
      "0     63     145   233        2    150      2.3   No\n",
      "1     67     160   286        2    108      1.5  Yes\n",
      "2     67     120   229        2    129      2.6  Yes\n",
      "3     37     130   250        0    187      3.5   No\n",
      "4     41     130   204        2    172      1.4   No\n",
      "..   ...     ...   ...      ...    ...      ...  ...\n",
      "276   45     110   264        0    132      1.2  Yes\n",
      "277   68     144   193        0    141      3.4  Yes\n",
      "278   57     130   131        0    115      1.2  Yes\n",
      "279   57     130   236        2    174      0.0  Yes\n",
      "280   38     138   175        0    173      0.0   No\n",
      "\n",
      "[281 rows x 7 columns]\n"
     ]
    }
   ],
   "source": [
    "#print the imported dataset\n",
    "print(df)"
   ]
  },
  {
   "cell_type": "markdown",
   "metadata": {},
   "source": [
    "## B\n",
    "Generate the feature matrix and label vector (AHD). Then, normalize (scale) the features."
   ]
  },
  {
   "cell_type": "code",
   "execution_count": 4,
   "metadata": {},
   "outputs": [
    {
     "name": "stdout",
     "output_type": "stream",
     "text": [
      "     Age  RestBP  Chol  RestECG  MaxHR  Oldpeak\n",
      "0     63     145   233        2    150      2.3\n",
      "1     67     160   286        2    108      1.5\n",
      "2     67     120   229        2    129      2.6\n",
      "3     37     130   250        0    187      3.5\n",
      "4     41     130   204        2    172      1.4\n",
      "..   ...     ...   ...      ...    ...      ...\n",
      "276   45     110   264        0    132      1.2\n",
      "277   68     144   193        0    141      3.4\n",
      "278   57     130   131        0    115      1.2\n",
      "279   57     130   236        2    174      0.0\n",
      "280   38     138   175        0    173      0.0\n",
      "\n",
      "[281 rows x 6 columns]\n"
     ]
    }
   ],
   "source": [
    "# Creating the Feature Matrix for the dataset:\n",
    "\n",
    "# create a python list of feature names that would like to pick from the dataset:\n",
    "feature_cols = ['Age','RestBP','Chol','RestECG','MaxHR','Oldpeak']\n",
    "\n",
    "# use the above list to select the features from the original DataFrame\n",
    "X = df[feature_cols] \n",
    "\n",
    "print(X)"
   ]
  },
  {
   "cell_type": "code",
   "execution_count": 5,
   "metadata": {},
   "outputs": [
    {
     "name": "stdout",
     "output_type": "stream",
     "text": [
      "0       No\n",
      "1      Yes\n",
      "2      Yes\n",
      "3       No\n",
      "4       No\n",
      "      ... \n",
      "276    Yes\n",
      "277    Yes\n",
      "278    Yes\n",
      "279    Yes\n",
      "280     No\n",
      "Name: AHD, Length: 281, dtype: object\n"
     ]
    }
   ],
   "source": [
    "# select label (the last column) from the DataFrame\n",
    "y = df['AHD']\n",
    "\n",
    "print(y)"
   ]
  },
  {
   "cell_type": "code",
   "execution_count": 6,
   "metadata": {},
   "outputs": [
    {
     "name": "stdout",
     "output_type": "stream",
     "text": [
      "[[ 0.94788279  0.74978425 -0.25859799  1.04743633 -0.00919313  1.13182982]\n",
      " [ 1.38542704  1.59842565  0.75330422  1.04743633 -1.84813139  0.43550978]\n",
      " [ 1.38542704 -0.6646181  -0.33496796  1.04743633 -0.92866226  1.39294984]\n",
      " ...\n",
      " [ 0.29156641 -0.09885716 -2.20603242 -0.96851989 -1.54164168  0.17438976]\n",
      " [ 0.29156641 -0.09885716 -0.2013205   1.04743633  1.04162873 -0.8700903 ]\n",
      " [-1.78676878  0.35375159 -1.36596267 -0.96851989  0.99784448 -0.8700903 ]]\n",
      "        Age    RestBP      Chol   RestECG     MaxHR  Oldpeak\n",
      "0  0.947883  0.749784 -0.258598  1.047436 -0.009193  1.13183\n",
      "1  1.385427  1.598426  0.753304  1.047436 -1.848131  0.43551\n",
      "2  1.385427 -0.664618 -0.334968  1.047436 -0.928662  1.39295\n",
      "3 -1.896155 -0.098857  0.065974 -0.968520  1.610824  2.17631\n",
      "4 -1.458611 -0.098857 -0.812280  1.047436  0.954060  0.34847\n"
     ]
    }
   ],
   "source": [
    "# Normalize the feature matrix\n",
    "X = preprocessing.scale(X)\n",
    "print(X)\n",
    "\n",
    "X = pd.DataFrame(X, columns=feature_cols)\n",
    "print(X.head())"
   ]
  },
  {
   "cell_type": "markdown",
   "metadata": {},
   "source": [
    "## C\n",
    "Split the dataset into testing and training sets with the following parameters: test_size=0.25, random_state=3."
   ]
  },
  {
   "cell_type": "code",
   "execution_count": 7,
   "metadata": {},
   "outputs": [],
   "source": [
    "# Splitting the dataset into testing and training:\n",
    "X_train, X_test, y_train, y_test = train_test_split(X, y, test_size=0.25, random_state=3)"
   ]
  },
  {
   "cell_type": "code",
   "execution_count": 8,
   "metadata": {},
   "outputs": [
    {
     "name": "stdout",
     "output_type": "stream",
     "text": [
      "          Age    RestBP      Chol   RestECG     MaxHR  Oldpeak\n",
      "89   0.182180 -0.381738  0.046882  1.047436 -0.271899  0.17439\n",
      "57  -0.692908 -0.098857 -0.029488  1.047436  1.304334 -0.69601\n",
      "132  1.057269 -0.664618 -0.010396  1.047436 -2.373542  1.04479\n",
      "30   1.604199  0.466904 -0.144043 -0.968520  0.034591  0.69663\n",
      "260  0.072794 -0.212009 -0.793188  0.039458 -0.884878  0.87071\n",
      "..        ...       ...       ...       ...       ...      ...\n",
      "147 -1.021066 -1.117227 -1.652350 -0.968520 -0.534604 -0.87009\n",
      "256  0.291566  1.258969 -0.277690  1.047436  0.603786 -0.87009\n",
      "131  0.072794  1.598426  0.810582  1.047436 -0.228114 -0.17377\n",
      "249  1.276041  1.598426 -0.354060  1.047436 -0.534604  1.13183\n",
      "152  1.057269  0.749784 -0.659540  1.047436 -0.797310  0.87071\n",
      "\n",
      "[210 rows x 6 columns]\n",
      "\n",
      "\n",
      "89     Yes\n",
      "57      No\n",
      "132    Yes\n",
      "30      No\n",
      "260    Yes\n",
      "      ... \n",
      "147     No\n",
      "256    Yes\n",
      "131    Yes\n",
      "249     No\n",
      "152    Yes\n",
      "Name: AHD, Length: 210, dtype: object\n"
     ]
    }
   ],
   "source": [
    "# print the training set:\n",
    "print(X_train)\n",
    "print('\\n')\n",
    "print(y_train)"
   ]
  },
  {
   "cell_type": "code",
   "execution_count": 9,
   "metadata": {},
   "outputs": [
    {
     "name": "stdout",
     "output_type": "stream",
     "text": [
      "          Age    RestBP      Chol   RestECG     MaxHR  Oldpeak\n",
      "253  1.057269  2.164187 -0.373153  1.047436  0.209728 -0.34785\n",
      "74   0.510339 -1.230379 -0.144043  1.047436 -0.359467  0.17439\n",
      "230  1.057269 -0.212009  0.314177 -0.968520 -1.979484 -0.69601\n",
      "38   0.072794  0.014295  2.032501 -0.968520 -0.797310  0.17439\n",
      "16  -0.692908 -1.230379 -0.334968 -0.968520  0.778923  0.00031\n",
      "..        ...       ...       ...       ...       ...      ...\n",
      "15   0.291566  1.032665 -1.499610 -0.968520  1.041629  0.52255\n",
      "78  -1.021066 -0.947499  0.256899  1.047436  1.523255 -0.87009\n",
      "109 -0.364750 -2.135597 -0.373153 -0.968520  0.165944 -0.87009\n",
      "122  0.400952 -1.513260 -0.124951  1.047436  0.165944 -0.34785\n",
      "142 -0.692908 -0.438314  0.161437 -0.968520  1.085413 -0.87009\n",
      "\n",
      "[71 rows x 6 columns]\n",
      "\n",
      "\n",
      "253     No\n",
      "74     Yes\n",
      "230     No\n",
      "38     Yes\n",
      "16     Yes\n",
      "      ... \n",
      "15      No\n",
      "78      No\n",
      "109     No\n",
      "122     No\n",
      "142     No\n",
      "Name: AHD, Length: 71, dtype: object\n"
     ]
    }
   ],
   "source": [
    "# print the testing set:\n",
    "print(X_test)\n",
    "print('\\n')\n",
    "print(y_test)"
   ]
  },
  {
   "cell_type": "markdown",
   "metadata": {},
   "source": [
    "## D\n",
    "Use Logistic Regression Classifier to predict Heart Disease occurrence based on the training/testing datasets that you built in part(c). Then, compute and report the Accuracy.\n",
    " \n",
    "Now, Use Logistic Regression Classifier to predict the probability of Heart Disease based on the training/testing datasets that you built in part (c) (you have to use “my_logreg.predict_proba” method rather than “my_logreg.predict”). Then, Plot the Roc Curve for this classifier, and also Compute the AUC (Area Under Curve for ROC)."
   ]
  },
  {
   "cell_type": "code",
   "execution_count": 10,
   "metadata": {},
   "outputs": [
    {
     "name": "stdout",
     "output_type": "stream",
     "text": [
      "Accuracy using Logistic Regression is:  0.7183098591549296\n"
     ]
    }
   ],
   "source": [
    "# Instantiate my_logisticregression object of LogisticRegression class\n",
    "my_logisticregression = LogisticRegression()\n",
    "\n",
    "# Training the model with train dataset\n",
    "my_logisticregression.fit(X_train, y_train)\n",
    "\n",
    "# Testing the model with test dataset we created using split\n",
    "\n",
    "# store the predicted values\n",
    "my_logisticregression_y_predict = my_logisticregression.predict(X_test)\n",
    "\n",
    "# Calculating the Accuracy of the prediction \n",
    "\n",
    "# we use accuracy_score function\n",
    "my_logisticregression_accuracy = accuracy_score(y_test, my_logisticregression_y_predict)\n",
    "\n",
    "print('Accuracy using Logistic Regression is: ',my_logisticregression_accuracy)"
   ]
  },
  {
   "cell_type": "code",
   "execution_count": 11,
   "metadata": {},
   "outputs": [],
   "source": [
    "# Predicting the Binary Label:\n",
    "y_predict_lr = my_logisticregression.predict(X_test)\n",
    "\n",
    "# Estimating the probability (likelihood) of Each Label: \n",
    "y_predict_prob_lr = my_logisticregression.predict_proba(X_test)"
   ]
  },
  {
   "cell_type": "code",
   "execution_count": 18,
   "metadata": {},
   "outputs": [
    {
     "name": "stdout",
     "output_type": "stream",
     "text": [
      "253     No\n",
      "74     Yes\n",
      "230     No\n",
      "38     Yes\n",
      "16     Yes\n",
      "      ... \n",
      "15      No\n",
      "78      No\n",
      "109     No\n",
      "122     No\n",
      "142     No\n",
      "Name: AHD, Length: 71, dtype: object\n"
     ]
    }
   ],
   "source": [
    "# This line prints the \"actual label\" of the testing set:\n",
    "print(y_test)"
   ]
  },
  {
   "cell_type": "code",
   "execution_count": 19,
   "metadata": {},
   "outputs": [
    {
     "name": "stdout",
     "output_type": "stream",
     "text": [
      "['Yes' 'No' 'Yes' 'Yes' 'No' 'No' 'No' 'No' 'Yes' 'No' 'Yes' 'No' 'Yes'\n",
      " 'Yes' 'No' 'No' 'Yes' 'No' 'Yes' 'Yes' 'No' 'No' 'Yes' 'No' 'Yes' 'No'\n",
      " 'No' 'Yes' 'No' 'No' 'Yes' 'Yes' 'Yes' 'No' 'No' 'Yes' 'Yes' 'No' 'Yes'\n",
      " 'No' 'No' 'Yes' 'No' 'No' 'Yes' 'Yes' 'No' 'No' 'Yes' 'No' 'No' 'Yes'\n",
      " 'No' 'Yes' 'No' 'No' 'No' 'No' 'No' 'No' 'Yes' 'No' 'No' 'No' 'No' 'No'\n",
      " 'No' 'No' 'No' 'No' 'No']\n"
     ]
    }
   ],
   "source": [
    "# This line prints the \"predicted label\" for the testing set:\n",
    "print(y_predict_lr)"
   ]
  },
  {
   "cell_type": "code",
   "execution_count": 20,
   "metadata": {},
   "outputs": [
    {
     "name": "stdout",
     "output_type": "stream",
     "text": [
      "[[0.49847189 0.50152811]\n",
      " [0.55153223 0.44846777]\n",
      " [0.39514152 0.60485848]\n",
      " [0.39636475 0.60363525]\n",
      " [0.8463285  0.1536715 ]\n",
      " [0.77042084 0.22957916]\n",
      " [0.73485372 0.26514628]\n",
      " [0.86548609 0.13451391]\n",
      " [0.35529864 0.64470136]\n",
      " [0.6707959  0.3292041 ]\n",
      " [0.09558374 0.90441626]\n",
      " [0.91924811 0.08075189]\n",
      " [0.29096442 0.70903558]\n",
      " [0.43043601 0.56956399]\n",
      " [0.66808153 0.33191847]\n",
      " [0.85924791 0.14075209]\n",
      " [0.11598482 0.88401518]\n",
      " [0.68324451 0.31675549]\n",
      " [0.11239963 0.88760037]\n",
      " [0.33485811 0.66514189]\n",
      " [0.85412798 0.14587202]\n",
      " [0.86376748 0.13623252]\n",
      " [0.22496489 0.77503511]\n",
      " [0.92910529 0.07089471]\n",
      " [0.10918691 0.89081309]\n",
      " [0.57443365 0.42556635]\n",
      " [0.72926897 0.27073103]\n",
      " [0.43211917 0.56788083]\n",
      " [0.67752917 0.32247083]\n",
      " [0.77600088 0.22399912]\n",
      " [0.30112704 0.69887296]\n",
      " [0.10864797 0.89135203]\n",
      " [0.17558051 0.82441949]\n",
      " [0.89158205 0.10841795]\n",
      " [0.81006702 0.18993298]\n",
      " [0.01129614 0.98870386]\n",
      " [0.06726456 0.93273544]\n",
      " [0.73258706 0.26741294]\n",
      " [0.20480859 0.79519141]\n",
      " [0.51449134 0.48550866]\n",
      " [0.717008   0.282992  ]\n",
      " [0.30586875 0.69413125]\n",
      " [0.66332514 0.33667486]\n",
      " [0.82077467 0.17922533]\n",
      " [0.03389153 0.96610847]\n",
      " [0.33728943 0.66271057]\n",
      " [0.87471223 0.12528777]\n",
      " [0.85656489 0.14343511]\n",
      " [0.36827265 0.63172735]\n",
      " [0.59762218 0.40237782]\n",
      " [0.62964398 0.37035602]\n",
      " [0.19469254 0.80530746]\n",
      " [0.96086695 0.03913305]\n",
      " [0.23063202 0.76936798]\n",
      " [0.88832735 0.11167265]\n",
      " [0.80533346 0.19466654]\n",
      " [0.88755409 0.11244591]\n",
      " [0.6431908  0.3568092 ]\n",
      " [0.83719082 0.16280918]\n",
      " [0.77051304 0.22948696]\n",
      " [0.27750557 0.72249443]\n",
      " [0.82840511 0.17159489]\n",
      " [0.76703016 0.23296984]\n",
      " [0.66246843 0.33753157]\n",
      " [0.75594836 0.24405164]\n",
      " [0.87543785 0.12456215]\n",
      " [0.69515727 0.30484273]\n",
      " [0.92701804 0.07298196]\n",
      " [0.90591669 0.09408331]\n",
      " [0.77008821 0.22991179]\n",
      " [0.91698898 0.08301102]]\n"
     ]
    }
   ],
   "source": [
    "# This line prints the \"estimated likelihood of both label\" for the testing set:\n",
    "print(y_predict_prob_lr)"
   ]
  },
  {
   "cell_type": "code",
   "execution_count": 21,
   "metadata": {},
   "outputs": [
    {
     "name": "stdout",
     "output_type": "stream",
     "text": [
      "[0.50152811 0.44846777 0.60485848 0.60363525 0.1536715  0.22957916\n",
      " 0.26514628 0.13451391 0.64470136 0.3292041  0.90441626 0.08075189\n",
      " 0.70903558 0.56956399 0.33191847 0.14075209 0.88401518 0.31675549\n",
      " 0.88760037 0.66514189 0.14587202 0.13623252 0.77503511 0.07089471\n",
      " 0.89081309 0.42556635 0.27073103 0.56788083 0.32247083 0.22399912\n",
      " 0.69887296 0.89135203 0.82441949 0.10841795 0.18993298 0.98870386\n",
      " 0.93273544 0.26741294 0.79519141 0.48550866 0.282992   0.69413125\n",
      " 0.33667486 0.17922533 0.96610847 0.66271057 0.12528777 0.14343511\n",
      " 0.63172735 0.40237782 0.37035602 0.80530746 0.03913305 0.76936798\n",
      " 0.11167265 0.19466654 0.11244591 0.3568092  0.16280918 0.22948696\n",
      " 0.72249443 0.17159489 0.23296984 0.33753157 0.24405164 0.12456215\n",
      " 0.30484273 0.07298196 0.09408331 0.22991179 0.08301102]\n"
     ]
    }
   ],
   "source": [
    "# This line prints the \"estimated likelihood of label=1\" for the testing set:\n",
    "print(y_predict_prob_lr[:,1])"
   ]
  },
  {
   "cell_type": "code",
   "execution_count": 15,
   "metadata": {},
   "outputs": [
    {
     "name": "stdout",
     "output_type": "stream",
     "text": [
      "[0.         0.         0.02439024 0.02439024 0.04878049 0.04878049\n",
      " 0.09756098 0.09756098 0.12195122 0.12195122 0.14634146 0.14634146\n",
      " 0.2195122  0.2195122  0.29268293 0.29268293 0.3902439  0.3902439\n",
      " 0.41463415 0.41463415 0.46341463 0.46341463 0.56097561 0.56097561\n",
      " 0.68292683 0.68292683 0.70731707 0.70731707 0.73170732 0.73170732\n",
      " 1.        ]\n",
      "[0.         0.03333333 0.03333333 0.33333333 0.33333333 0.36666667\n",
      " 0.36666667 0.4        0.4        0.53333333 0.53333333 0.6\n",
      " 0.6        0.63333333 0.63333333 0.7        0.7        0.73333333\n",
      " 0.73333333 0.76666667 0.76666667 0.83333333 0.83333333 0.86666667\n",
      " 0.86666667 0.93333333 0.93333333 0.96666667 0.96666667 1.\n",
      " 1.        ]\n"
     ]
    }
   ],
   "source": [
    "# True Positive Rate (TPR) and False Positive Rate (FPR):\n",
    "fpr, tpr, thresholds = metrics.roc_curve(y_test, y_predict_prob_lr[:,1], pos_label='Yes')\n",
    "\n",
    "print(fpr)\n",
    "print(tpr)"
   ]
  },
  {
   "cell_type": "code",
   "execution_count": 22,
   "metadata": {},
   "outputs": [
    {
     "name": "stdout",
     "output_type": "stream",
     "text": [
      "AUC is:  0.7650406504065042\n"
     ]
    }
   ],
   "source": [
    "# AUC:\n",
    "AUC = metrics.auc(fpr, tpr)\n",
    "print(\"AUC is: \", AUC)"
   ]
  },
  {
   "cell_type": "code",
   "execution_count": 17,
   "metadata": {},
   "outputs": [
    {
     "data": {
      "image/png": "[encoded data removed]",
      "text/plain": [
       "<Figure size 432x288 with 1 Axes>"
      ]
     },
     "metadata": {
      "needs_background": "light"
     },
     "output_type": "display_data"
    }
   ],
   "source": [
    "# Importing the \"pyplot\" package of \"matplotlib\" library of python to generate \n",
    "# graphs and plot curves:\n",
    "import matplotlib.pyplot as plt\n",
    "\n",
    "# The following line will tell Jupyter Notebook to keep the figures inside the explorer page \n",
    "# rather than openng a new figure window:\n",
    "%matplotlib inline\n",
    "\n",
    "plt.figure()\n",
    "\n",
    "# Roc Curve:\n",
    "plt.plot(fpr, tpr, color='red', lw=2, \n",
    "         label='ROC Curve (area = %0.2f)' % AUC)\n",
    "\n",
    "# Random Guess line:\n",
    "plt.plot([0, 1], [0, 1], color='blue', lw=1, linestyle='--')\n",
    "\n",
    "# Defining The Range of X-Axis and Y-Axis:\n",
    "plt.xlim([-0.005, 1.005])\n",
    "plt.ylim([0.0, 1.01])\n",
    "\n",
    "# Labels, Title, Legend:\n",
    "plt.xlabel('False Positive Rate')\n",
    "plt.ylabel('True Positive Rate')\n",
    "plt.title('Receiver operating characteristic')\n",
    "plt.legend(loc=\"lower right\")\n",
    "\n",
    "plt.show()"
   ]
  },
  {
   "cell_type": "markdown",
   "metadata": {},
   "source": [
    "## Answer Summary\n",
    "\n",
    "### D\n",
    "#### Accuracy using Logistic Regression is:  0.7183098591549296\n",
    "#### AUC is:  0.7650406504065042"
   ]
  },
  {
   "cell_type": "code",
   "execution_count": null,
   "metadata": {},
   "outputs": [],
   "source": []
  }
 ],
 "metadata": {
  "kernelspec": {
   "display_name": "Python 3",
   "language": "python",
   "name": "python3"
  },
  "language_info": {
   "codemirror_mode": {
    "name": "ipython",
    "version": 3
   },
   "file_extension": ".py",
   "mimetype": "text/x-python",
   "name": "python",
   "nbconvert_exporter": "python",
   "pygments_lexer": "ipython3",
   "version": "3.8.3"
  }
 },
 "nbformat": 4,
 "nbformat_minor": 4
}
