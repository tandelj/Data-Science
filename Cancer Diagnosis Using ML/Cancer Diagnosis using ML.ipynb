{
 "cells": [
  {
   "cell_type": "markdown",
   "metadata": {},
   "source": [
    "# CS 4662: ADVANCED MACHINE LEARNING\n",
    "## Jay Tandel"
   ]
  },
  {
   "cell_type": "markdown",
   "metadata": {},
   "source": [
    "### Cancer Diagnosis Using Machine Learning"
   ]
  },
  {
   "cell_type": "markdown",
   "metadata": {},
   "source": [
    "## 1"
   ]
  },
  {
   "cell_type": "markdown",
   "metadata": {},
   "source": [
    "Read the dataset file “Cancer.csv” (from github using the following command), and assign it to a Pandas DataFrame:\n",
    "\n",
    "df  = pd.read_csv(\"https://github.com/mpourhoma/CS4662/raw/master/Cancer.csv\")\n",
    "\n",
    "Check out the dataset. As you see, the dataset includes 9 numerical features. The last column is the binary label (“1” means it is a malignant cancer, “0” means it is a benign   tumor). You will use all 9 features in this homework."
   ]
  },
  {
   "cell_type": "code",
   "execution_count": 1,
   "metadata": {},
   "outputs": [],
   "source": [
    "# Importing the required packages and libraries\n",
    "import pandas as pd\n",
    "import numpy as np\n",
    "from sklearn.model_selection import train_test_split\n",
    "from sklearn.tree import DecisionTreeClassifier\n",
    "from sklearn.model_selection import train_test_split\n",
    "from sklearn.metrics import accuracy_score\n",
    "from sklearn import metrics\n",
    "from statistics import mode\n",
    "from sklearn.utils import resample\n",
    "from sklearn.metrics import roc_curve\n",
    "from sklearn.metrics import roc_auc_score\n",
    "import matplotlib.pyplot as plt\n",
    "from sklearn.ensemble import AdaBoostClassifier\n",
    "from sklearn.ensemble import RandomForestClassifier"
   ]
  },
  {
   "cell_type": "code",
   "execution_count": 2,
   "metadata": {},
   "outputs": [
    {
     "name": "stdout",
     "output_type": "stream",
     "text": [
      "     Clump_Thickness  Uniformity_of_Cell_Size  Uniformity_of_Cell_Shape  \\\n",
      "0                  5                        1                         1   \n",
      "1                  5                        4                         4   \n",
      "2                  3                        1                         1   \n",
      "3                  6                        8                         8   \n",
      "4                  4                        1                         1   \n",
      "..               ...                      ...                       ...   \n",
      "145                3                        1                         1   \n",
      "146                9                        7                         7   \n",
      "147               10                        8                         8   \n",
      "148                1                        1                         1   \n",
      "149                5                        1                         1   \n",
      "\n",
      "     Marginal_Adhesion  Single_Epithelial_Cell_Size  Bare_Nuclei  \\\n",
      "0                    1                            2            1   \n",
      "1                    5                            7           10   \n",
      "2                    1                            2            2   \n",
      "3                    1                            3            4   \n",
      "4                    3                            2            1   \n",
      "..                 ...                          ...          ...   \n",
      "145                  1                            2            1   \n",
      "146                  5                            5           10   \n",
      "147                  4                           10           10   \n",
      "148                  1                            2            1   \n",
      "149                  1                            2            1   \n",
      "\n",
      "     Bland_Chromatin  Normal_Nucleoli  Mitoses  Malignant_Cancer  \n",
      "0                  3                1        1                 0  \n",
      "1                  3                2        1                 0  \n",
      "2                  3                1        1                 0  \n",
      "3                  3                7        1                 0  \n",
      "4                  3                1        1                 0  \n",
      "..               ...              ...      ...               ...  \n",
      "145                2                1        1                 0  \n",
      "146                7                8        3                 1  \n",
      "147                8                1        1                 1  \n",
      "148                3                1        1                 0  \n",
      "149                3                1        1                 0  \n",
      "\n",
      "[150 rows x 10 columns]\n"
     ]
    }
   ],
   "source": [
    "# Reading the csv file from web, and store it in panda DataFrame\n",
    "df = pd.read_csv('https://raw.githubusercontent.com/mpourhoma/CS4661/master/Cancer.csv')\n",
    "\n",
    "#print the imported dataset\n",
    "print(df)"
   ]
  },
  {
   "cell_type": "code",
   "execution_count": null,
   "metadata": {},
   "outputs": [],
   "source": []
  },
  {
   "cell_type": "markdown",
   "metadata": {},
   "source": [
    "## 2"
   ]
  },
  {
   "cell_type": "markdown",
   "metadata": {},
   "source": [
    "Use sklearn functions to split the dataset into testing and training sets with the following parameters: test_size=0.3, random_state=2."
   ]
  },
  {
   "cell_type": "code",
   "execution_count": 3,
   "metadata": {},
   "outputs": [
    {
     "name": "stdout",
     "output_type": "stream",
     "text": [
      "(105, 9)\n",
      "(105,)\n",
      "(45, 9)\n",
      "(45,)\n"
     ]
    }
   ],
   "source": [
    "# Creating the Feature Matrix for Cancer dataset:\n",
    "\n",
    "# create a python list of feature names that would like to pick from the dataset:\n",
    "feature_cols = ['Clump_Thickness', 'Uniformity_of_Cell_Size', 'Uniformity_of_Cell_Shape', 'Marginal_Adhesion', \n",
    "                'Single_Epithelial_Cell_Size', 'Bare_Nuclei', 'Bland_Chromatin', 'Normal_Nucleoli', 'Mitoses',]\n",
    "\n",
    "# use the above list to select the features from the original DataFrame\n",
    "X = df[feature_cols]\n",
    "\n",
    "# select a Series of labels (the last column) from the DataFrame\n",
    "y = df['Malignant_Cancer']\n",
    "\n",
    "#spliting the data randomly into training and testing data\n",
    "X_train, X_test, y_train, y_test = train_test_split(X, y, test_size=0.3, random_state=2)\n",
    "\n",
    "# print the size of the traning set:\n",
    "print(X_train.shape)\n",
    "print(y_train.shape)\n",
    "\n",
    "# print the size of the testing set:\n",
    "print(X_test.shape)\n",
    "print(y_test.shape)"
   ]
  },
  {
   "cell_type": "markdown",
   "metadata": {},
   "source": [
    "## 3"
   ]
  },
  {
   "cell_type": "markdown",
   "metadata": {},
   "source": [
    "Use “Decision Tree Classifier” to predict Cancer based on the training/testing datasets that you built in part (h). Then, calculate and report the accuracy and AUC of your classifier. Later in part (g), you will plot the ROC curve as well. Use this command to define your tree: my_DecisionTree = DecisionTreeClassifier(random_state=2)."
   ]
  },
  {
   "cell_type": "code",
   "execution_count": 4,
   "metadata": {},
   "outputs": [
    {
     "name": "stdout",
     "output_type": "stream",
     "text": [
      "0.8666666666666667\n"
     ]
    }
   ],
   "source": [
    "#defining decision tree object\n",
    "my_DecisionTree = DecisionTreeClassifier(random_state=2)\n",
    "\n",
    "#train data using decision tree object\n",
    "my_DecisionTree.fit(X_train, y_train)\n",
    "\n",
    "#predict test data\n",
    "y_predict = my_DecisionTree.predict(X_test)\n",
    "\n",
    "#check accuracy\n",
    "accuracy_log = accuracy_score(y_test,y_predict)\n",
    "print(accuracy_log)"
   ]
  },
  {
   "cell_type": "code",
   "execution_count": 5,
   "metadata": {},
   "outputs": [],
   "source": [
    "# Predicting the Binary Label:\n",
    "y_predict = my_DecisionTree.predict(X_test)\n",
    "\n",
    "# Estimating the probability (likelihood) of Each Label: \n",
    "y_predict_prob = my_DecisionTree.predict_proba(X_test)"
   ]
  },
  {
   "cell_type": "code",
   "execution_count": 6,
   "metadata": {},
   "outputs": [
    {
     "name": "stdout",
     "output_type": "stream",
     "text": [
      "[0 1 1 1 1 1 1 1 0 0 1 1 1 1 1 1 0 1 0 1 0 0 0 0 0 1 0 0 0 1 0 1 1 0 1 0 0\n",
      " 1 1 0 1 1 0 1 1]\n",
      "[0. 1. 1. 1. 1. 1. 1. 1. 0. 0. 1. 1. 1. 1. 1. 1. 0. 1. 0. 1. 0. 0. 0. 0.\n",
      " 0. 1. 0. 0. 0. 1. 0. 1. 1. 0. 1. 0. 0. 1. 1. 0. 1. 1. 0. 1. 1.]\n"
     ]
    }
   ],
   "source": [
    "# This line prints the \"predicted label\" for the testing set:\n",
    "print(y_predict)\n",
    "\n",
    "# This line prints the \"estimated likelihood of label=1\" for the testing set:\n",
    "print(y_predict_prob[:,1])"
   ]
  },
  {
   "cell_type": "code",
   "execution_count": 7,
   "metadata": {},
   "outputs": [
    {
     "name": "stdout",
     "output_type": "stream",
     "text": [
      "AUC:  0.8697478991596639\n"
     ]
    }
   ],
   "source": [
    "# Takes in False Positive Rate(fpr) and True Positive rate(tpr)\n",
    "#auc = roc_auc_score(y_test, y_predict)\n",
    "fpr, tpr, thresholds = metrics.roc_curve(y_test, y_predict_prob[:,1], pos_label=1)\n",
    "AUC = metrics.auc(fpr, tpr)\n",
    "print('AUC: ',AUC)"
   ]
  },
  {
   "cell_type": "markdown",
   "metadata": {},
   "source": [
    "## 4"
   ]
  },
  {
   "cell_type": "markdown",
   "metadata": {},
   "source": [
    "Now, we want to perform “Bagging” based on 29 “base decision tree classifiers”.\n",
    "\n",
    "Note: you should write your own code to perform Bagging (don’t use scikit-learn functions for Bagging!)\n",
    "\n",
    "To do so, you need to perform bootstrapping first. You can write a “for” loop with loop variable i=0…18.  In each iteration of the loop, you have to:\n",
    "\n",
    "make a bootstarp sample of the original “Training” Dataset (build in part(b)) with size of bootstarp_size = 0.8*(Size of the original dataset). You can use the following command to generate a random bootstrap dataset (“i\" is the variable of the loop, so the random_state changes in each iteration):\n",
    "resample(X_train, n_samples = bootstarp_size , random_state=i , replace = True)\n",
    "\n",
    "Define and train a new base decision tree classifier on this dataset in each iteration:\n",
    "Base_DecisionTree = DecisionTreeClassifier(random_state=2).\n",
    "\n",
    "Test “this base classifier” on the original “Testing” Dataset build in part(b), and save the prediction results for all testing samples."
   ]
  },
  {
   "cell_type": "code",
   "execution_count": 8,
   "metadata": {},
   "outputs": [],
   "source": [
    "bootstarp_size = int(0.8 * X_train.shape[0])\n",
    "#create empty list\n",
    "BDTsamples = []\n",
    "\n",
    "for i in range(29):\n",
    "    X,y = resample(X_train, y_train, n_samples = bootstarp_size, random_state = i, replace = True)\n",
    "    Base_DecisionTree = DecisionTreeClassifier(random_state = 2)\n",
    "    Base_DecisionTree.fit(X,y)\n",
    "    #testing Base_DecisionTree on orginial testing set\n",
    "    Base_DecisionTree_predict = Base_DecisionTree.predict(X_test)\n",
    "    #storing predicitons in list\n",
    "    BDTsamples.append(Base_DecisionTree_predict)"
   ]
  },
  {
   "cell_type": "code",
   "execution_count": 9,
   "metadata": {},
   "outputs": [
    {
     "name": "stdout",
     "output_type": "stream",
     "text": [
      "Voting accuracy:  0.9111111111111111\n"
     ]
    }
   ],
   "source": [
    "#creating empty list to for voting\n",
    "majority = []\n",
    "\n",
    "Base_Tree = pd.DataFrame(BDTsamples).T\n",
    "column_list = list(Base_Tree)\n",
    "Base_Tree[\"sum\"] = Base_Tree[column_list].sum(axis=1).T\n",
    "sum_list = Base_Tree[\"sum\"].T.tolist()\n",
    "#print(Base_Tree[\"sum\"])\n",
    "\n",
    "p_list = np.array(BDTsamples)\n",
    "predictions_t = p_list.T\n",
    "\n",
    "#print(sum_list_temp)\n",
    "for i in predictions_t:\n",
    "    temp = mode(i)\n",
    "    majority.append(temp)\n",
    "\n",
    "#print(majority)        \n",
    "\n",
    "#calculate accuracy score of majority list\n",
    "majority_DT_accuracy = accuracy_score(y_test, majority)\n",
    "print(\"Voting accuracy: \", majority_DT_accuracy)"
   ]
  },
  {
   "cell_type": "code",
   "execution_count": 10,
   "metadata": {},
   "outputs": [
    {
     "name": "stdout",
     "output_type": "stream",
     "text": [
      "\n",
      "Voting AUC:  0.9380252100840336\n"
     ]
    }
   ],
   "source": [
    "#create empty list for average of votes\n",
    "avgPredictions = []\n",
    "#iterate through list of row sums and divide by length of list for average\n",
    "for i in sum_list:\n",
    "    avg = i / len(Base_Tree[0])\n",
    "    avgPredictions.append(avg)\n",
    "    \n",
    "#print(avgPredictions)\n",
    "\n",
    "fpr2, tpr2, thresholds2 = metrics.roc_curve(y_test, avgPredictions, pos_label=1)\n",
    "\n",
    "voting_AUC = metrics.auc(fpr2,tpr2)\n",
    "print(\"\\nVoting AUC: \", voting_AUC)"
   ]
  },
  {
   "cell_type": "markdown",
   "metadata": {},
   "source": [
    "## 5"
   ]
  },
  {
   "cell_type": "markdown",
   "metadata": {},
   "source": [
    "Use scikit-learn “Adaboost” classifier to predict Cancer based on the training/testing datasets that you built in part (b). Then, calculate and report the accuracy and AUC of your classifier. Use this command to import and define your classifier:\n",
    "\n",
    "from   sklearn.ensemble   import     AdaBoostClassifier\n",
    "\n",
    "my_AdaBoost = AdaBoostClassifier(n_estimators = 29,random_state=2)"
   ]
  },
  {
   "cell_type": "code",
   "execution_count": 11,
   "metadata": {},
   "outputs": [
    {
     "name": "stdout",
     "output_type": "stream",
     "text": [
      "AdaBoost accuracy:  0.9555555555555556\n",
      "\n",
      "AdaBoost AUC:  0.9653361344537815\n"
     ]
    }
   ],
   "source": [
    "my_AdaBoost = AdaBoostClassifier(n_estimators=29,random_state=2)\n",
    "my_AdaBoost.fit(X_train,y_train)\n",
    "my_AdaBoost_predict = my_AdaBoost.predict(X_test)\n",
    "my_AdaBoost_predict_prob = my_AdaBoost.predict_proba(X_test)\n",
    "AdaBoost_accuracy = accuracy_score(y_test, my_AdaBoost_predict)\n",
    "print(\"AdaBoost accuracy: \", AdaBoost_accuracy)\n",
    "\n",
    "fpr3, tpr3, thresholds3 = metrics.roc_curve(y_test, my_AdaBoost_predict_prob[:,1], pos_label=1)\n",
    "ada_AUC = metrics.auc(fpr3, tpr3)\n",
    "print(\"\\nAdaBoost AUC: \", ada_AUC)"
   ]
  },
  {
   "cell_type": "markdown",
   "metadata": {},
   "source": [
    "## 6"
   ]
  },
  {
   "cell_type": "markdown",
   "metadata": {},
   "source": [
    "n this section, we use an extremely popular Boosting algorithm called “XGBoost”. This algorithm is not included in sklearn, so you need to install the XGBoost library. Please see this for more infor: https://xgboost.readthedocs.io/en/latest/build.html (Links to an external site.)\n",
    "\n",
    "Mac users can easily install it with “pip install xgboost”.\n",
    "\n",
    "Repeat part (e) with XGBoost. Use this command to import and define your classifier:\n",
    "\n",
    "from   xgboost   import   XGBClassifier\n",
    "\n",
    "my_XGBoost = XGBClassifier(n_estimators = 29,random_state=2)"
   ]
  },
  {
   "cell_type": "code",
   "execution_count": 12,
   "metadata": {},
   "outputs": [],
   "source": [
    "#import xgboost"
   ]
  },
  {
   "cell_type": "code",
   "execution_count": 13,
   "metadata": {},
   "outputs": [],
   "source": [
    "#import sys\n",
    "#!{sys.executable} -m pip install xgboost"
   ]
  },
  {
   "cell_type": "code",
   "execution_count": 14,
   "metadata": {},
   "outputs": [],
   "source": [
    "#conda install -c conda-forge xgboost"
   ]
  },
  {
   "cell_type": "markdown",
   "metadata": {},
   "source": []
  },
  {
   "cell_type": "code",
   "execution_count": 15,
   "metadata": {},
   "outputs": [
    {
     "name": "stdout",
     "output_type": "stream",
     "text": [
      "[11:05:16] WARNING: /Users/runner/miniforge3/conda-bld/xgboost_1593723618214/work/src/learner.cc:480: \n",
      "Parameters: { use_label_encoder } might not be used.\n",
      "\n",
      "  This may not be accurate due to some parameters are only used in language bindings but\n",
      "  passed down to XGBoost core.  Or some parameters are not used but slip through this\n",
      "  verification. Please open an issue if you find above cases.\n",
      "\n",
      "\n",
      "XGB accuracy:  0.9555555555555556\n",
      "\n",
      "XGB AUC:  0.9716386554621849\n"
     ]
    }
   ],
   "source": [
    "#use_label_encoder was suggested to stop the bright red error message\n",
    "from xgboost import XGBClassifier\n",
    "my_XGBoost = XGBClassifier(n_estimators=29,random_state=2,use_label_encoder=False)\n",
    "my_XGBoost.fit(X_train,y_train)\n",
    "my_XGBoost_predict = my_XGBoost.predict(X_test)\n",
    "my_XGBoost_predict_prob = my_XGBoost.predict_proba(X_test)\n",
    "XBG_accuracy = accuracy_score(y_test, my_XGBoost_predict)\n",
    "print(\"XGB accuracy: \",XBG_accuracy)\n",
    "\n",
    "fpr4, tpr4, thresholds4 = metrics.roc_curve(y_test, my_XGBoost_predict_prob[:,1],pos_label=1)\n",
    "XGB_AUC = metrics.auc(fpr4,tpr4)\n",
    "print(\"\\nXGB AUC: \", XGB_AUC)"
   ]
  },
  {
   "cell_type": "markdown",
   "metadata": {},
   "source": [
    "## 7"
   ]
  },
  {
   "cell_type": "markdown",
   "metadata": {},
   "source": [
    "Use scikit-learn “Random Forest” classifier to predict Cancer based on the training/testing datasets that you built in part (b). Then, calculate and report the accuracy and AUC of your classifier. Use this command to import and define your classifier:\n",
    "\n",
    "from   sklearn.ensemble    import    RandomForestClassifier\n",
    "\n",
    "my_RandomForest = RandomForestClassifier(n_estimators = 29, bootstrap = True, random_state=2)\n",
    "\n"
   ]
  },
  {
   "cell_type": "code",
   "execution_count": 16,
   "metadata": {},
   "outputs": [
    {
     "name": "stdout",
     "output_type": "stream",
     "text": [
      "Random Forest accuracy:  0.9555555555555556\n",
      "\n",
      "Random Forest AUC:  0.9516806722689075\n"
     ]
    }
   ],
   "source": [
    "my_RandomForest = RandomForestClassifier(n_estimators=29,bootstrap = True, random_state=2)\n",
    "my_RandomForest.fit(X_train,y_train)\n",
    "my_RandomForest_predict = my_RandomForest.predict(X_test)\n",
    "my_RandomForest_predict_prob = my_RandomForest.predict_proba(X_test)\n",
    "my_RandomForest_accuracy = accuracy_score(y_test, my_RandomForest_predict)\n",
    "print(\"Random Forest accuracy: \", my_RandomForest_accuracy)\n",
    "\n",
    "fpr5,tpr5,thresholds5 = metrics.roc_curve(y_test, my_RandomForest_predict_prob[:,1],pos_label=1)\n",
    "RF_AUC = metrics.auc(fpr5,tpr5)\n",
    "print(\"\\nRandom Forest AUC: \", RF_AUC)"
   ]
  },
  {
   "cell_type": "markdown",
   "metadata": {},
   "source": [
    "## 8"
   ]
  },
  {
   "cell_type": "markdown",
   "metadata": {},
   "source": [
    "Now, plot the ROC curves of your algorithms in parts (c), (d), (e), (f), (g) in a single plane with different colors along with the name of each method. Show the AUCs on the graph as well.\n",
    "\n",
    "Which algorithm is the best w.r.t the AUC value?\n",
    "\n",
    "Which algorithm is the best w.r.t the Accuracy value?\n",
    "\n",
    "Which algorithm is the best when we want a False Positive Rate of %7?"
   ]
  },
  {
   "cell_type": "code",
   "execution_count": 17,
   "metadata": {},
   "outputs": [
    {
     "data": {
      "image/png": "[encoded data removed]",
      "text/plain": [
       "<Figure size 432x288 with 1 Axes>"
      ]
     },
     "metadata": {
      "needs_background": "light"
     },
     "output_type": "display_data"
    }
   ],
   "source": [
    "#keep figures inside jupyter notebook\n",
    "%matplotlib inline\n",
    "\n",
    "plt.figure()\n",
    "\n",
    "#ROC curve\n",
    "plt.plot(fpr, tpr, color = 'red', lw = 2, label = 'Decision Tree (area = %0.2f)' % AUC)\n",
    "plt.plot(fpr2, tpr2, color = 'green', lw = 2, label = 'Voting  (area = %0.2f)' % voting_AUC)\n",
    "plt.plot(fpr3, tpr3, color = 'blue', lw = 2, label = 'AdaBoost (area = %0.2f)' % ada_AUC)\n",
    "plt.plot(fpr4, tpr4, color = 'purple', lw = 2, label = ' XGBoost (area = %0.2f)' % XGB_AUC)\n",
    "plt.plot(fpr5, tpr5, color = 'orange', lw = 2, label = 'RandomForest (area = %0.2f)' % RF_AUC)\n",
    "\n",
    "#Random Guess Line:\n",
    "plt.plot([0, 1], [0, 1], color = 'cyan', lw = 1, linestyle = '--')\n",
    "\n",
    "#Defining The Range of X-Axis and Y-Axis\n",
    "plt.xlim([-0.005, 1.005])\n",
    "plt.ylim([0.0, 1.01])\n",
    "\n",
    "#Labels, Title, Legend:\n",
    "plt.xlabel('False Positive Rate')\n",
    "plt.ylabel('True Positive Rate')\n",
    "plt.title('Cancer Predicter')\n",
    "plt.legend(loc = \"lower right\")\n",
    "\n",
    "plt.show()"
   ]
  },
  {
   "cell_type": "markdown",
   "metadata": {},
   "source": [
    "### Which algorithm is the best w.r.t the AUC value?\n",
    "#### XGBoost is best w.r.t the AUC Value\n",
    "#### AUC Value: 0.9716386554621849"
   ]
  },
  {
   "cell_type": "markdown",
   "metadata": {},
   "source": [
    "### Which algorithm is the best w.r.t the Accuracy value?\n",
    "#### Adaboost,XGboost and Random Forest algorithm is the best w.r.t the AUC value\n",
    "#### Accuracy Value : 0.9555555555555556"
   ]
  },
  {
   "cell_type": "markdown",
   "metadata": {},
   "source": [
    "### Which algorithm is the best when we want a False Positive Rate of %7?\n",
    "Random Forest"
   ]
  },
  {
   "cell_type": "markdown",
   "metadata": {},
   "source": [
    "## Answer Summary"
   ]
  },
  {
   "cell_type": "markdown",
   "metadata": {},
   "source": [
    "## 3\n",
    "#### Decision Tree Classifier Accuracy: 0.8666666666666667\n",
    "#### Decision Tree Classifier AUC: AUC:  0.8697478991596639\n",
    "\n",
    "## 4\n",
    "#### Bagging Accuracy: 0.9111111111111111\n",
    "#### Bagging AUC: 0.9380252100840336\n",
    "\n",
    "## 5\n",
    "#### AdaBoost Accuracy:  0.9555555555555556\n",
    "#### AdaBoost AUC:  0.9653361344537815\n",
    "\n",
    "\n",
    "## 6\n",
    "#### XGB accuracy:  0.9555555555555556\n",
    "#### XGB AUC:  0.9716386554621849\n",
    "\n",
    "## 7\n",
    "#### Random Forest accuracy:  0.9555555555555556\n",
    "#### Random Forest AUC:  0.9516806722689075\n",
    "\n"
   ]
  },
  {
   "cell_type": "code",
   "execution_count": null,
   "metadata": {},
   "outputs": [],
   "source": []
  }
 ],
 "metadata": {
  "kernelspec": {
   "display_name": "Python 3",
   "language": "python",
   "name": "python3"
  },
  "language_info": {
   "codemirror_mode": {
    "name": "ipython",
    "version": 3
   },
   "file_extension": ".py",
   "mimetype": "text/x-python",
   "name": "python",
   "nbconvert_exporter": "python",
   "pygments_lexer": "ipython3",
   "version": "3.8.3"
  }
 },
 "nbformat": 4,
 "nbformat_minor": 4
}
