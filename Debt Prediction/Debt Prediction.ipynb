{
 "cells": [
  {
   "cell_type": "markdown",
   "metadata": {},
   "source": [
    "# CS 4661: Introduction to Data Science\n",
    "## Jay Tandel\n"
   ]
  },
  {
   "cell_type": "markdown",
   "metadata": {},
   "source": [
    "### Problem: Debt Prediction\n",
    "In this question, we work with another dataset from the textbook of \"An Introduction to Statistical Learning.\""
   ]
  },
  {
   "cell_type": "markdown",
   "metadata": {},
   "source": [
    "## A\n",
    "Read the dataset file “Credit.csv” (from github using the following command), and assign it to a Pandas DataFrame:\n",
    "\n",
    "df  = pd.read_csv(\"https://github.com/mpourhoma/CS4661/raw/master/Credit.csv\")"
   ]
  },
  {
   "cell_type": "code",
   "execution_count": 1,
   "metadata": {},
   "outputs": [],
   "source": [
    "# Importing the required packages and libraries\n",
    "import pandas as pd\n",
    "import numpy as np\n",
    "from sklearn.neighbors import KNeighborsClassifier\n",
    "from sklearn.tree import DecisionTreeClassifier\n",
    "from sklearn.linear_model import LogisticRegression\n",
    "from sklearn.model_selection import train_test_split\n",
    "from sklearn.metrics import accuracy_score\n",
    "from sklearn.model_selection import cross_val_score\n",
    "from sklearn import preprocessing\n",
    "from sklearn.linear_model import LinearRegression\n",
    "from sklearn import metrics"
   ]
  },
  {
   "cell_type": "code",
   "execution_count": 2,
   "metadata": {},
   "outputs": [],
   "source": [
    "# Reading the csv file from web, and store it in panda DataFrame\n",
    "df = pd.read_csv(\"https://github.com/mpourhoma/CS4661/raw/master/Credit.csv\")"
   ]
  },
  {
   "cell_type": "markdown",
   "metadata": {},
   "source": [
    "## B\n",
    "Check out the dataset. The “Credit” dataset includes the “balance” column (average credit card debt for a number of individuals) as target, as well as several features: age, cards (number of credit cards), education (years of education), income (in thousands of dollars), limit (credit limit), marital status, and rating (credit rating)."
   ]
  },
  {
   "cell_type": "code",
   "execution_count": 3,
   "metadata": {},
   "outputs": [
    {
     "name": "stdout",
     "output_type": "stream",
     "text": [
      "      Income  Limit  Rating  Cards  Age  Education  Married  Balance\n",
      "0     14.891   3606     283      2   34         11        1      333\n",
      "1    106.025   6645     483      3   82         15        1      903\n",
      "2    104.593   7075     514      4   71         11        0      580\n",
      "3    148.924   9504     681      3   36         11        0      964\n",
      "4     55.882   4897     357      2   68         16        1      331\n",
      "..       ...    ...     ...    ...  ...        ...      ...      ...\n",
      "395   12.096   4100     307      3   32         13        1      560\n",
      "396   13.364   3838     296      5   65         17        0      480\n",
      "397   57.872   4171     321      5   67         12        1      138\n",
      "398   37.728   2525     192      1   44         13        1        0\n",
      "399   18.701   5524     415      5   64          7        0      966\n",
      "\n",
      "[400 rows x 8 columns]\n"
     ]
    }
   ],
   "source": [
    "#print the imported dataset\n",
    "print(df)"
   ]
  },
  {
   "cell_type": "markdown",
   "metadata": {},
   "source": [
    "## C\n",
    "Generate the feature matrix and target vector (target is “balance” in this dataset). Then, normalize (scale) the features (note: don’t normalize the target vector!). To normalize the data, you can simply use scale(X)  from sklearn."
   ]
  },
  {
   "cell_type": "code",
   "execution_count": 4,
   "metadata": {},
   "outputs": [
    {
     "name": "stdout",
     "output_type": "stream",
     "text": [
      "      Income  Limit  Rating  Cards  Age  Education  Married\n",
      "0     14.891   3606     283      2   34         11        1\n",
      "1    106.025   6645     483      3   82         15        1\n",
      "2    104.593   7075     514      4   71         11        0\n",
      "3    148.924   9504     681      3   36         11        0\n",
      "4     55.882   4897     357      2   68         16        1\n",
      "..       ...    ...     ...    ...  ...        ...      ...\n",
      "395   12.096   4100     307      3   32         13        1\n",
      "396   13.364   3838     296      5   65         17        0\n",
      "397   57.872   4171     321      5   67         12        1\n",
      "398   37.728   2525     192      1   44         13        1\n",
      "399   18.701   5524     415      5   64          7        0\n",
      "\n",
      "[400 rows x 7 columns]\n"
     ]
    }
   ],
   "source": [
    "# Creating the Feature Matrix for the dataset:\n",
    "\n",
    "# create a python list of feature names that would like to pick from the dataset:\n",
    "feature_cols = ['Income','Limit','Rating','Cards','Age','Education','Married']\n",
    "\n",
    "# use the above list to select the features from the original DataFrame\n",
    "X = df[feature_cols] \n",
    "\n",
    "print(X)\n"
   ]
  },
  {
   "cell_type": "code",
   "execution_count": 5,
   "metadata": {},
   "outputs": [
    {
     "name": "stdout",
     "output_type": "stream",
     "text": [
      "[[-0.86158299 -0.48999879 -0.46553881 ... -1.2576741  -0.78492991\n",
      "   0.79539491]\n",
      " [ 1.72743711  0.82826106  0.82870309 ...  1.5284506   0.49658831\n",
      "   0.79539491]\n",
      " [ 1.68675551  1.01478681  1.02931059 ...  0.88996369 -0.78492991\n",
      "  -1.25723711]\n",
      " ...\n",
      " [ 0.35946155 -0.24491264 -0.21963285 ...  0.65778663 -0.46455035\n",
      "   0.79539491]\n",
      " [-0.21280808 -0.95891584 -1.05441888 ... -0.67723146 -0.1441708\n",
      "   0.79539491]\n",
      " [-0.75334493  0.34199278  0.38866085 ...  0.48365384 -2.06644812\n",
      "  -1.25723711]]\n",
      "     Income     Limit    Rating     Cards       Age  Education   Married\n",
      "0 -0.861583 -0.489999 -0.465539 -0.699130 -1.257674  -0.784930  0.795395\n",
      "1  1.727437  0.828261  0.828703  0.031032  1.528451   0.496588  0.795395\n",
      "2  1.686756  1.014787  1.029311  0.761194  0.889964  -0.784930 -1.257237\n",
      "3  2.946152  2.068440  2.110003  0.031032 -1.141586  -0.784930 -1.257237\n",
      "4  0.302928  0.070012  0.013331 -0.699130  0.715831   0.816968  0.795395\n"
     ]
    }
   ],
   "source": [
    "# Normalize the feature matrix\n",
    "X = preprocessing.scale(X)\n",
    "print(X)\n",
    "\n",
    "X = pd.DataFrame(X, columns=feature_cols)\n",
    "print(X.head())"
   ]
  },
  {
   "cell_type": "code",
   "execution_count": 6,
   "metadata": {},
   "outputs": [
    {
     "name": "stdout",
     "output_type": "stream",
     "text": [
      "0      333\n",
      "1      903\n",
      "2      580\n",
      "3      964\n",
      "4      331\n",
      "      ... \n",
      "395    560\n",
      "396    480\n",
      "397    138\n",
      "398      0\n",
      "399    966\n",
      "Name: Balance, Length: 400, dtype: int64\n"
     ]
    }
   ],
   "source": [
    "# select label (the last column) from the DataFrame\n",
    "y = df['Balance']\n",
    "\n",
    "print(y)"
   ]
  },
  {
   "cell_type": "markdown",
   "metadata": {},
   "source": [
    "## D\n",
    "Split the dataset into testing and training sets with the following parameters: test_size=0.24, random_state=9."
   ]
  },
  {
   "cell_type": "code",
   "execution_count": 7,
   "metadata": {},
   "outputs": [],
   "source": [
    "# Splitting the dataset into testing and training:\n",
    "X_train, X_test, y_train, y_test = train_test_split(X, y, test_size=0.24, random_state=9)\n"
   ]
  },
  {
   "cell_type": "code",
   "execution_count": 8,
   "metadata": {},
   "outputs": [
    {
     "name": "stdout",
     "output_type": "stream",
     "text": [
      "       Income     Limit    Rating     Cards       Age  Education   Married\n",
      "252  0.787669  1.677604  1.721730  0.031032  0.483654  -1.746069 -1.257237\n",
      "320 -0.822151 -1.551027 -1.481519  0.031032  1.296274  -0.144171  0.795395\n",
      "351  0.465938  0.175421  0.123341 -1.429291  0.889964  -1.425689  0.795395\n",
      "244 -0.643686 -1.279046 -1.345623  0.761194  0.599742   0.496588 -1.257237\n",
      "155 -0.729595 -1.463403 -1.371508  0.761194 -1.257674  -1.425689  0.795395\n",
      "..        ...       ...       ...       ...       ...        ...       ...\n",
      "251 -0.475704 -0.665246 -0.569078  1.491355  0.599742  -0.464550  0.795395\n",
      "56   0.337530  0.002776  0.110399  2.951679  1.354318   1.457727  0.795395\n",
      "126 -0.533857  0.345897  0.505143  1.491355 -0.328966   0.496588  0.795395\n",
      "348 -0.903003 -1.562305 -1.572116  0.031032  0.831919   0.176209  0.795395\n",
      "382 -0.579397  0.329413  0.349834 -1.429291 -1.315718  -1.425689 -1.257237\n",
      "\n",
      "[304 rows x 7 columns]\n",
      "\n",
      "\n",
      "252    1355\n",
      "320       5\n",
      "351     302\n",
      "244       0\n",
      "155       0\n",
      "       ... \n",
      "251     132\n",
      "56      379\n",
      "126    1404\n",
      "348       0\n",
      "382    1352\n",
      "Name: Balance, Length: 304, dtype: int64\n"
     ]
    }
   ],
   "source": [
    "# print the training set:\n",
    "print(X_train)\n",
    "print('\\n')\n",
    "print(y_train)"
   ]
  },
  {
   "cell_type": "code",
   "execution_count": 9,
   "metadata": {},
   "outputs": [
    {
     "name": "stdout",
     "output_type": "stream",
     "text": [
      "       Income     Limit    Rating     Cards       Age  Education   Married\n",
      "57   0.882214  0.018826  0.078043  0.761194  0.541698   0.176209  0.795395\n",
      "32   2.527319  1.345762  1.346400 -0.699130 -0.445054  -0.144171 -1.257237\n",
      "17  -0.247808 -0.155120 -0.103151  0.031032  0.773875   0.496588  0.795395\n",
      "167 -0.449312 -1.044804 -1.145016 -1.429291 -1.083541   0.176209  0.795395\n",
      "2    1.686756  1.014787  1.029311  0.761194  0.889964  -0.784930 -1.257237\n",
      "..        ...       ...       ...       ...       ...        ...       ...\n",
      "25  -0.884339 -0.178978 -0.187277  1.491355 -1.780072   0.816968  0.795395\n",
      "397  0.359462 -0.244913 -0.219633  1.491355  0.657787  -0.464550  0.795395\n",
      "62  -0.412977 -1.329365 -1.261498 -0.699130  1.238229  -2.066448 -1.257237\n",
      "305 -0.589738 -1.219618 -1.229142 -0.699130 -0.328966   0.176209  0.795395\n",
      "379  0.229803 -0.813599 -0.912052 -1.429291  1.644539  -1.105309  0.795395\n",
      "\n",
      "[96 rows x 7 columns]\n",
      "\n",
      "\n",
      "57     133\n",
      "32     526\n",
      "17     368\n",
      "167      0\n",
      "2      580\n",
      "      ... \n",
      "25     671\n",
      "397    138\n",
      "62       0\n",
      "305      0\n",
      "379      0\n",
      "Name: Balance, Length: 96, dtype: int64\n"
     ]
    }
   ],
   "source": [
    "t"
   ]
  },
  {
   "cell_type": "markdown",
   "metadata": {},
   "source": [
    "## E\n",
    "Use Linear Regression to train a linear model on the training set. Check the coefficients of the linear regression model. Which feature is the most important? Which feature is the least important?"
   ]
  },
  {
   "cell_type": "code",
   "execution_count": 10,
   "metadata": {},
   "outputs": [
    {
     "data": {
      "text/plain": [
       "LinearRegression()"
      ]
     },
     "execution_count": 10,
     "metadata": {},
     "output_type": "execute_result"
    }
   ],
   "source": [
    "# In the following line, \"my_linreg\" is instantiated as an \"object\" of LinearRegression \"class\". \n",
    "\n",
    "my_linreg = LinearRegression()\n",
    "\n",
    "# fitting the model to the training data:\n",
    "my_linreg.fit(X_train, y_train)"
   ]
  },
  {
   "cell_type": "code",
   "execution_count": 11,
   "metadata": {},
   "outputs": [
    {
     "name": "stdout",
     "output_type": "stream",
     "text": [
      "520.0391034603759\n",
      "[-264.69553256  360.5601294   252.73642988   24.91707959  -17.23897686\n",
      "   11.65810466   -9.82859046]\n",
      "Coeeficients of the linear Regression:  [-264.69553256  360.5601294   252.73642988   24.91707959  -17.23897686\n",
      "   11.65810466   -9.82859046]\n"
     ]
    }
   ],
   "source": [
    "# printing Theta0 using attribute \"intercept_\":\n",
    "print(my_linreg.intercept_)\n",
    "\n",
    "# printing [Theta1, Theta2, Theta3] using attribute \"coef_\":\n",
    "print(my_linreg.coef_)\n",
    "\n",
    "print(\"Coeeficients of the linear Regression: \", my_linreg.coef_)"
   ]
  },
  {
   "cell_type": "code",
   "execution_count": 12,
   "metadata": {},
   "outputs": [
    {
     "name": "stdout",
     "output_type": "stream",
     "text": [
      "Most important feature: Limit\n",
      "Least important feature: Married\n"
     ]
    }
   ],
   "source": [
    "# Features: Income     Limit    Rating     Cards       Age  Education   Married\n",
    "\n",
    "print(\"Most important feature: Limit\")\n",
    "print(\"Least important feature: Married\")"
   ]
  },
  {
   "cell_type": "markdown",
   "metadata": {},
   "source": [
    "## F\n",
    "Predict “balance” for the users in testing set. Then, compare the predicted balance with the actual balance by calculating and reporting the RMSE (as we saw in lab tutorial 4)."
   ]
  },
  {
   "cell_type": "code",
   "execution_count": 13,
   "metadata": {},
   "outputs": [
    {
     "name": "stdout",
     "output_type": "stream",
     "text": [
      "[ 316.89813114  677.5093907   489.03669272  -49.82989971  706.42913216\n",
      "  864.96954115  897.65752581  108.20297732 -213.73474279  834.94198677\n",
      "   11.05109139 -227.34447869  472.01450822    4.54554458 -228.17349827\n",
      "  956.21537845  896.91570524  821.97824267   18.37144232  857.31517013\n",
      " 1028.30326279  699.22168497 1176.9426756   666.28578465  643.94064891\n",
      "  690.63628696  589.35273903  -29.37237394  575.15444917  406.78468032\n",
      "  845.81453327  828.30862904   82.2376206   953.40592514 -184.74828227\n",
      "  525.84335889 1045.19205022  535.04104472  107.26753118 -172.8968111\n",
      "  497.84037664 1155.35533939  429.08674601  403.49872552  143.72087313\n",
      "  764.78737012  431.24114308 1304.79656588  475.00132057   95.75404622\n",
      " -215.69000296    5.62900657  313.88797405  859.9328932   792.27147016\n",
      " 1029.90210771 1500.40180297 1078.48617624  713.37981473 1072.97948262\n",
      "  -64.12187718  488.60063387   92.3601712   440.414465    277.13284667\n",
      " 1075.41508762  258.10181743  773.89657462  278.12447916  409.51029492\n",
      "  335.56674013  989.87781589  978.31940615 1042.6230052   915.82319179\n",
      "  150.95645254  516.7089988   733.47654088   74.84330655  556.47429962\n",
      " 1096.60831626  359.12494251  204.54562103  407.76115868  113.50656023\n",
      "  958.07237887  934.59051997    2.98452112 1627.80317193  636.31395153\n",
      "  688.17824441  711.80910955  293.66354104 -219.28997401  -91.76701391\n",
      " -149.31642723]\n"
     ]
    }
   ],
   "source": [
    "# make predictions on the testing set\n",
    "y_prediction = my_linreg.predict(X_test)\n",
    "\n",
    "print(y_prediction)\n"
   ]
  },
  {
   "cell_type": "code",
   "execution_count": 14,
   "metadata": {},
   "outputs": [
    {
     "name": "stdout",
     "output_type": "stream",
     "text": [
      "57     133\n",
      "32     526\n",
      "17     368\n",
      "167      0\n",
      "2      580\n",
      "      ... \n",
      "25     671\n",
      "397    138\n",
      "62       0\n",
      "305      0\n",
      "379      0\n",
      "Name: Balance, Length: 96, dtype: int64\n"
     ]
    }
   ],
   "source": [
    "print(y_test)"
   ]
  },
  {
   "cell_type": "code",
   "execution_count": 15,
   "metadata": {},
   "outputs": [
    {
     "name": "stdout",
     "output_type": "stream",
     "text": [
      "143.24649739642277\n"
     ]
    }
   ],
   "source": [
    "# Calculating \"Mean Square Error\" (MSE):\n",
    "mse = metrics.mean_squared_error(y_test, y_prediction)\n",
    "\n",
    "# Using numpy sqrt function to take the square root and calculate \"Root Mean Square Error\" (RMSE)\n",
    "rmse = np.sqrt(mse)\n",
    "\n",
    "print(rmse)"
   ]
  },
  {
   "cell_type": "code",
   "execution_count": 16,
   "metadata": {},
   "outputs": [
    {
     "name": "stdout",
     "output_type": "stream",
     "text": [
      "RMSE is:  143.24649739642277\n"
     ]
    }
   ],
   "source": [
    "print(\"RMSE is: \",rmse)"
   ]
  },
  {
   "cell_type": "markdown",
   "metadata": {},
   "source": [
    "## G\n",
    "Now, use 10-fold Cross-Validation to evaluate the performance of a linear regression in predicting the balance. Thus, rather than splitting the dataset into testing and training, use Cross-Validation to evaluate the regression performance. What is the RMSE when you use cross validation?"
   ]
  },
  {
   "cell_type": "code",
   "execution_count": 17,
   "metadata": {},
   "outputs": [
    {
     "name": "stdout",
     "output_type": "stream",
     "text": [
      "[-23646.90415343 -32003.04401232 -35462.64435619 -37327.60719635\n",
      " -14341.32205939 -33628.37104224 -31631.99317834 -12491.00334951\n",
      " -20749.61212175 -23204.94743459]\n"
     ]
    }
   ],
   "source": [
    "# Applying 10-fold cross validation with \"linear regression\" classifier:\n",
    "\n",
    "# In the following line, \"my_linreg1\" is instantiated as an \"object\" of LinearRegression \"class\". \n",
    "my_linreg1 = LinearRegression()\n",
    "\n",
    "# function cross_val_score performs Cross Validation:\n",
    "mse_list = cross_val_score(my_linreg1, X, y, cv=10, scoring='neg_mean_squared_error')\n",
    "\n",
    "print(mse_list)"
   ]
  },
  {
   "cell_type": "code",
   "execution_count": 18,
   "metadata": {},
   "outputs": [
    {
     "name": "stdout",
     "output_type": "stream",
     "text": [
      "[153.7754992  178.89394627 188.31527914 193.20353826 119.75525901\n",
      " 183.38039983 177.85385343 111.76315739 144.04725656 152.331702  ]\n"
     ]
    }
   ],
   "source": [
    "# Notice that \"cross_val_score\" by default provides \"negative\" values for \"mse\" to clarify that mse is error.\n",
    "# in order to calculate root mean square error (rmse), we have to make them positive!\n",
    "mse_list_positive = -mse_list\n",
    "\n",
    "# using numpy sqrt function to calculate rmse:\n",
    "rmse_list = np.sqrt(mse_list_positive)\n",
    "print(rmse_list)\n"
   ]
  },
  {
   "cell_type": "code",
   "execution_count": 19,
   "metadata": {},
   "outputs": [
    {
     "name": "stdout",
     "output_type": "stream",
     "text": [
      "160.33198910744136\n"
     ]
    }
   ],
   "source": [
    "# calculate the average RMSE as final result of cross validation:\n",
    "print(rmse_list.mean())"
   ]
  },
  {
   "cell_type": "code",
   "execution_count": 20,
   "metadata": {},
   "outputs": [
    {
     "name": "stdout",
     "output_type": "stream",
     "text": [
      "RMSE with 10-fold cross validation:  160.33198910744136\n"
     ]
    }
   ],
   "source": [
    "print(\"RMSE with 10-fold cross validation: \", rmse_list.mean())"
   ]
  },
  {
   "cell_type": "markdown",
   "metadata": {},
   "source": [
    "## Answer Summary\n",
    "\n",
    "### E\n",
    "#### Most important feature: Limit\n",
    "#### Least important feature: Married\n",
    "\n",
    "### F\n",
    "#### RMSE is:  143.24649739642277\n",
    "#### RMSE with 10-fold cross validation:  160.33198910744136"
   ]
  }
 ],
 "metadata": {
  "kernelspec": {
   "display_name": "Python 3",
   "language": "python",
   "name": "python3"
  },
  "language_info": {
   "codemirror_mode": {
    "name": "ipython",
    "version": 3
   },
   "file_extension": ".py",
   "mimetype": "text/x-python",
   "name": "python",
   "nbconvert_exporter": "python",
   "pygments_lexer": "ipython3",
   "version": "3.8.3"
  }
 },
 "nbformat": 4,
 "nbformat_minor": 4
}
